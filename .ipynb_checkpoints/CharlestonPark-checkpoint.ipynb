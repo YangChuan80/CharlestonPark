{
 "cells": [
  {
   "cell_type": "code",
   "execution_count": 1,
   "metadata": {
    "collapsed": true
   },
   "outputs": [],
   "source": [
    "import tkinter as tk\n",
    "from tkinter import ttk\n",
    "from tkinter import filedialog\n",
    "from tkinter import messagebox\n",
    "import tkinter.font as tkf\n",
    "import sqlite3\n",
    "import numpy as np\n",
    "import pandas as pd"
   ]
  },
  {
   "cell_type": "code",
   "execution_count": 2,
   "metadata": {
    "collapsed": true
   },
   "outputs": [],
   "source": [
    "conn = sqlite3.connect('Samples_test.sqlite')\n",
    "cur = conn.cursor()"
   ]
  },
  {
   "cell_type": "code",
   "execution_count": 3,
   "metadata": {
    "collapsed": true
   },
   "outputs": [],
   "source": [
    "cur.execute('SELECT * FROM BloodSamples')\n",
    "samples = cur.fetchall()\n",
    "\n",
    "headers = [item[0] for item in cur.description]"
   ]
  },
  {
   "cell_type": "markdown",
   "metadata": {},
   "source": [
    "## Helper functions"
   ]
  },
  {
   "cell_type": "code",
   "execution_count": 4,
   "metadata": {
    "collapsed": true
   },
   "outputs": [],
   "source": [
    "def OnDoubleClick(event):\n",
    "    global idglb\n",
    "    try:\n",
    "        item = table.selection()[0]\n",
    "        value = table.item(item, 'values')\n",
    "        iden = value[0]    \n",
    "        extractID(iden)\n",
    "        idglb = iden\n",
    "        print('here!')\n",
    "    except:\n",
    "        pass"
   ]
  },
  {
   "cell_type": "code",
   "execution_count": 5,
   "metadata": {
    "collapsed": true
   },
   "outputs": [],
   "source": [
    "def sortby(tree, col, descending):\n",
    "    \"\"\"sort tree contents when a column header is clicked on\"\"\"\n",
    "    # grab values to sort\n",
    "    data = [(tree.set(child, col), child) for child in tree.get_children('')]\n",
    "    # if the data to be sorted is numeric change to float\n",
    "    #data =  change_numeric(data)\n",
    "    # now sort the data in place\n",
    "    data.sort(reverse=descending)\n",
    "    for ix, item in enumerate(data):\n",
    "        tree.move(item[1], '', ix)\n",
    "    # switch the heading so it will sort in the opposite direction\n",
    "    tree.heading(col, command=lambda col=col: sortby(tree, col, int(not descending)))    "
   ]
  },
  {
   "cell_type": "code",
   "execution_count": 6,
   "metadata": {
    "collapsed": true
   },
   "outputs": [],
   "source": [
    "def refreshDB():\n",
    "    global conn, cur, desc, headers, genes\n",
    "    conn.close()\n",
    "    conn = sqlite3.connect('Samples_test.sqlite')\n",
    "    cur = conn.cursor()\n",
    "\n",
    "    cur.execute('SELECT * FROM BloodSamples')\n",
    "    headers = [item[0] for item in cur.description]\n",
    "\n",
    "    cur.execute('SELECT * FROM BloodSamples')\n",
    "    genes = cur.fetchall()"
   ]
  },
  {
   "cell_type": "code",
   "execution_count": 7,
   "metadata": {
    "collapsed": true
   },
   "outputs": [],
   "source": [
    "def extractID(iden):\n",
    "    cur.execute('SELECT * FROM BloodSamples WHERE SampleID = ?', (iden,))    \n",
    "    row = cur.fetchone()    \n",
    "    arrange(row)"
   ]
  },
  {
   "cell_type": "code",
   "execution_count": 8,
   "metadata": {
    "collapsed": true
   },
   "outputs": [],
   "source": [
    "def arrange(row):\n",
    "    item = {}\n",
    "    for i in range(len(row)):\n",
    "        item[headers[i]] = row[i]\n",
    "    display_in_text(item)"
   ]
  },
  {
   "cell_type": "code",
   "execution_count": 9,
   "metadata": {
    "collapsed": true
   },
   "outputs": [],
   "source": [
    "def display_in_table(samples):\n",
    "    for sample in samples:\n",
    "        table.insert(\"\", \"end\", \"\", values=sample)\n",
    "    num = str(len(samples))\n",
    "    text_num.delete('1.0', tk.END)\n",
    "    text_num.insert('1.0', num)"
   ]
  },
  {
   "cell_type": "code",
   "execution_count": 10,
   "metadata": {
    "collapsed": true
   },
   "outputs": [],
   "source": [
    "def display_in_text(item):\n",
    "    text_RackNumber.delete('1.0', tk.END)\n",
    "    text_RackNumber.insert('1.0', item['RackNumber'])  \n",
    "    print(item)"
   ]
  },
  {
   "cell_type": "code",
   "execution_count": 11,
   "metadata": {
    "collapsed": true
   },
   "outputs": [],
   "source": [
    "def clear():\n",
    "    for i in table.get_children():\n",
    "        table.delete(i)"
   ]
  },
  {
   "cell_type": "code",
   "execution_count": 12,
   "metadata": {
    "collapsed": true
   },
   "outputs": [],
   "source": [
    "def browse():\n",
    "    clear()\n",
    "    refreshDB()\n",
    "    display_in_table(samples)"
   ]
  },
  {
   "cell_type": "markdown",
   "metadata": {},
   "source": [
    "## Main Flow"
   ]
  },
  {
   "cell_type": "code",
   "execution_count": 13,
   "metadata": {
    "collapsed": false
   },
   "outputs": [],
   "source": [
    "root = tk.Tk()\n",
    "root.geometry(\"{0}x{1}+0+0\".format(root.winfo_screenwidth(), root.winfo_screenheight()))\n",
    "#root.attributes('-fullscreen', True)\n",
    "root.title('CharlestonPark')\n",
    "root.iconbitmap('Heart.ico')\n",
    "\n",
    "# Multicolumn Listbox/////////////////////////////////////////////////////////////////////////////\n",
    "table = ttk.Treeview(height=\"20\", columns=headers, selectmode=\"extended\")\n",
    "table.pack(padx=10, pady=20, ipadx=1200, ipady=215)\n",
    "\n",
    "i = 1\n",
    "header_width = [20, 80, 40, 20, 30, 10, 40, 70, 55, 140, 50, 35, 90, 90, 90, 90, 90, 60, 50]\n",
    "for header in headers:\n",
    "    table.heading('#'+str(i), text=header.title(), anchor=tk.W, command=lambda c=header: sortby(table, c, 0))\n",
    "    table.column('#'+str(i), stretch=tk.NO, minwidth=0, width=tkf.Font().measure(header.title())+header_width[i-1])\n",
    "    i+=1    \n",
    "table.column('#0', stretch=tk.NO, minwidth=0, width=0)\n",
    "\n",
    "table.bind(\"<Double-1>\", OnDoubleClick)\n",
    "#///////////////////////////////////////////////////////////////////////////////////////////\n",
    "\n",
    "# Scrollbar////////////////////////////////////////////////////////////////////////////////////////\n",
    "vsb = ttk.Scrollbar(table, orient = \"vertical\",  command = table.yview)\n",
    "hsb = ttk.Scrollbar(table, orient = \"horizontal\", command = table.xview)\n",
    "## Link scrollbars activation to top-level object\n",
    "table.configure(yscrollcommand = vsb.set, xscrollcommand = hsb.set)\n",
    "## Link scrollbar also to every columns\n",
    "map(lambda col: col.configure(yscrollcommand = vsb.set, xscrollcommand = hsb.set), table)\n",
    "vsb.pack(side = tk.RIGHT, fill = tk.Y)\n",
    "hsb.pack(side = tk.BOTTOM, fill = tk.X) \n",
    "\n",
    "# ///////Text Edit/////////////////////////\n",
    "# ////////////// Record Num/////////////////\n",
    "\n",
    "text_num = tk.Text(root, width=8, height=1, font=('tahoma', 8), wrap='none')\n",
    "text_num.place(x=1280, y=550)\n",
    "\n",
    "# ///////////// Routine Edits////////////////\n",
    "\n",
    "y_origin = 670\n",
    "gain = 47\n",
    "i = 0\n",
    "\n",
    "text_RackNumber = tk.Text(root, width=20, height=1, font=('tahoma', 8), wrap='none')\n",
    "text_RackNumber.place(x=20, y=y_origin+i*gain)\n",
    "label_RackNumber = tk.Label(root, text='RackNumber:', font=('tahoma', 8))\n",
    "label_RackNumber.place(x=20,y=y_origin+i*gain-25)\n",
    "\n",
    "text_SimpleID = tk.Text(root, width=20, height=1, font=('tahoma', 8), wrap='none')\n",
    "text_SimpleID.place(x=220, y=y_origin+i*gain)\n",
    "label_SimpleID = tk.Label(root, text='SampleID:', font=('tahoma', 8))\n",
    "label_SimpleID.place(x=220,y=y_origin+i*gain-25)\n",
    "\n",
    "\n",
    "# /////Buttons//////////////////////\n",
    "\n",
    "button_browse=ttk.Button(root, text='Browse', width=15, command=browse)\n",
    "button_browse.place(x=1120, y=550)\n",
    "\n",
    "\n",
    "\n",
    "\n",
    "\n",
    "\n",
    "root.mainloop()"
   ]
  },
  {
   "cell_type": "code",
   "execution_count": 14,
   "metadata": {
    "collapsed": true
   },
   "outputs": [],
   "source": [
    "conn.close()"
   ]
  }
 ],
 "metadata": {
  "anaconda-cloud": {},
  "kernelspec": {
   "display_name": "Python [default]",
   "language": "python",
   "name": "python3"
  },
  "language_info": {
   "codemirror_mode": {
    "name": "ipython",
    "version": 3
   },
   "file_extension": ".py",
   "mimetype": "text/x-python",
   "name": "python",
   "nbconvert_exporter": "python",
   "pygments_lexer": "ipython3",
   "version": "3.5.2"
  }
 },
 "nbformat": 4,
 "nbformat_minor": 0
}
