{
 "cells": [
  {
   "cell_type": "code",
   "execution_count": 1,
   "metadata": {
    "collapsed": true
   },
   "outputs": [],
   "source": [
    "import tkinter as tk\n",
    "import sqlite3\n",
    "import numpy as np\n",
    "import pandas as pd"
   ]
  },
  {
   "cell_type": "code",
   "execution_count": 3,
   "metadata": {
    "collapsed": false
   },
   "outputs": [
    {
     "name": "stdout",
     "output_type": "stream",
     "text": [
      " 驱动器 I 中的卷是 Data\n",
      " 卷的序列号是 9C76-E5EB\n",
      "\n",
      " I:\\Chuan\\Documents\\GitHub\\CharlestonPark 的目录\n",
      "\n",
      "2017/03/30  16:39    <DIR>          .\n",
      "2017/03/30  16:39    <DIR>          ..\n",
      "2016/12/26  09:35    <DIR>          .ipynb_checkpoints\n",
      "2017/03/30  16:33             1,778 CharlestonPark.ipynb\n",
      "2017/03/30  16:23             9,216 Samples_20170330155800.db\n",
      "               2 个文件         10,994 字节\n",
      "               3 个目录 479,107,735,552 可用字节\n"
     ]
    }
   ],
   "source": [
    "ls"
   ]
  },
  {
   "cell_type": "code",
   "execution_count": 4,
   "metadata": {
    "collapsed": true
   },
   "outputs": [],
   "source": [
    "conn = sqlite3.connect('Samples_20170330155800.db')\n",
    "cur = conn.cursor()"
   ]
  },
  {
   "cell_type": "code",
   "execution_count": 5,
   "metadata": {
    "collapsed": true
   },
   "outputs": [],
   "source": [
    "cur.execute('SELECT * FROM Blood')\n",
    "samples = cur.fetchall()"
   ]
  },
  {
   "cell_type": "code",
   "execution_count": 7,
   "metadata": {
    "collapsed": false
   },
   "outputs": [
    {
     "data": {
      "text/plain": [
       "list"
      ]
     },
     "execution_count": 7,
     "metadata": {},
     "output_type": "execute_result"
    }
   ],
   "source": [
    "type(samples)"
   ]
  },
  {
   "cell_type": "code",
   "execution_count": 8,
   "metadata": {
    "collapsed": false
   },
   "outputs": [
    {
     "data": {
      "text/plain": [
       "44"
      ]
     },
     "execution_count": 8,
     "metadata": {},
     "output_type": "execute_result"
    }
   ],
   "source": [
    "len(samples)"
   ]
  },
  {
   "cell_type": "code",
   "execution_count": 9,
   "metadata": {
    "collapsed": false
   },
   "outputs": [
    {
     "data": {
      "text/plain": [
       "('2016081906000000',\n",
       " 'WholeBlood',\n",
       " '-80Frozen',\n",
       " 'Liwu Zhang',\n",
       " '张立武',\n",
       " 'Yes',\n",
       " 'NA',\n",
       " 'ZY010001578893',\n",
       " '22020419600430391X',\n",
       " '',\n",
       " 'Male',\n",
       " 'NSTEMI',\n",
       " 'Hypertension',\n",
       " 'Diabetes',\n",
       " '',\n",
       " '',\n",
       " '',\n",
       " '')"
      ]
     },
     "execution_count": 9,
     "metadata": {},
     "output_type": "execute_result"
    }
   ],
   "source": [
    "samples[0]"
   ]
  },
  {
   "cell_type": "code",
   "execution_count": null,
   "metadata": {
    "collapsed": true
   },
   "outputs": [],
   "source": []
  }
 ],
 "metadata": {
  "kernelspec": {
   "display_name": "Python 3",
   "language": "python",
   "name": "python3"
  },
  "language_info": {
   "codemirror_mode": {
    "name": "ipython",
    "version": 3
   },
   "file_extension": ".py",
   "mimetype": "text/x-python",
   "name": "python",
   "nbconvert_exporter": "python",
   "pygments_lexer": "ipython3",
   "version": "3.4.3"
  }
 },
 "nbformat": 4,
 "nbformat_minor": 0
}
